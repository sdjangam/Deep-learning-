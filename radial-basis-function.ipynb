{
 "cells": [
  {
   "cell_type": "markdown",
   "metadata": {
    "_cell_guid": "b1076dfc-b9ad-4769-8c92-a6c4dae69d19",
    "_uuid": "8f2839f25d086af736a60e9eeb907d3b93b6e0e5",
    "execution": {
     "iopub.execute_input": "2022-01-27T13:35:37.694315Z",
     "iopub.status.busy": "2022-01-27T13:35:37.693414Z",
     "iopub.status.idle": "2022-01-27T13:35:42.467748Z",
     "shell.execute_reply": "2022-01-27T13:35:42.466996Z",
     "shell.execute_reply.started": "2022-01-27T13:35:37.694170Z"
    }
   },
   "source": [
    "## **Radial Basis Function**\n",
    "Image result for what is radial basis function\n",
    "In the field of mathematical modeling, a radial basis function network is an artificial neural network that uses radial basis functions as activation functions. ... Radial basis function networks have many uses, including function approximation, time series prediction, classification, and system control.\n"
   ]
  },
  {
   "cell_type": "code",
   "execution_count": 2,
   "metadata": {
    "execution": {
     "iopub.execute_input": "2022-01-27T13:47:03.626639Z",
     "iopub.status.busy": "2022-01-27T13:47:03.626365Z",
     "iopub.status.idle": "2022-01-27T13:47:03.633021Z",
     "shell.execute_reply": "2022-01-27T13:47:03.630969Z",
     "shell.execute_reply.started": "2022-01-27T13:47:03.626590Z"
    }
   },
   "outputs": [],
   "source": [
    "import pandas as pd\n",
    "import numpy as np\n",
    "\n",
    "import matplotlib.pyplot as plt\n",
    "from tensorflow.keras.layers import Layer\n",
    "from tensorflow.keras import backend as K\n",
    "\n",
    "from tensorflow.keras.layers import Dense, Flatten\n",
    "from tensorflow.keras.models import Sequential\n",
    "from tensorflow.keras.losses import binary_crossentropy"
   ]
  },
  {
   "cell_type": "markdown",
   "metadata": {},
   "source": [
    "### **reading dataset**\n",
    "`Kuzushiji-MNIST` is a drop-in replacement for the MNIST dataset (28x28 grayscale, 70,000 images), provided in the original MNIST format as well as a NumPy format. Since MNIST restricts us to 10 classes, we chose one character to represent each of the 10 rows of Hiragana when creating Kuzushiji-MNIST."
   ]
  },
  {
   "cell_type": "code",
   "execution_count": 8,
   "metadata": {
    "execution": {
     "iopub.execute_input": "2022-01-27T13:40:25.957291Z",
     "iopub.status.busy": "2022-01-27T13:40:25.957044Z",
     "iopub.status.idle": "2022-01-27T13:40:28.826280Z",
     "shell.execute_reply": "2022-01-27T13:40:28.825514Z",
     "shell.execute_reply.started": "2022-01-27T13:40:25.957263Z"
    }
   },
   "outputs": [],
   "source": [
    "''' reading dataset '''\n",
    "X = np.load(r'C:\\Users\\jgaur\\Downloads\\data\\k49-train-imgs.npz')['arr_0']\n",
    "y = np.load(r'C:\\Users\\jgaur\\Downloads\\data\\k49-train-labels.npz')['arr_0']"
   ]
  },
  {
   "cell_type": "code",
   "execution_count": 9,
   "metadata": {
    "execution": {
     "iopub.execute_input": "2022-01-27T13:43:03.227268Z",
     "iopub.status.busy": "2022-01-27T13:43:03.226717Z",
     "iopub.status.idle": "2022-01-27T13:43:03.939882Z",
     "shell.execute_reply": "2022-01-27T13:43:03.939186Z",
     "shell.execute_reply.started": "2022-01-27T13:43:03.227230Z"
    }
   },
   "outputs": [
    {
     "data": {
      "image/png": "[encoded data removed]",
      "text/plain": [
       "<Figure size 720x576 with 16 Axes>"
      ]
     },
     "metadata": {
      "needs_background": "light"
     },
     "output_type": "display_data"
    }
   ],
   "source": [
    "''' plotting some images '''\n",
    "plt.figure(figsize=(10,8))\n",
    "for i in range(16):\n",
    "    plt.subplot(4, 4, i + 1)\n",
    "    plt.imshow(X[i], cmap='binary')\n",
    "    plt.axis('off')\n",
    "plt.axis('off');"
   ]
  },
  {
   "cell_type": "code",
   "execution_count": 10,
   "metadata": {
    "execution": {
     "iopub.execute_input": "2022-01-27T13:45:00.966427Z",
     "iopub.status.busy": "2022-01-27T13:45:00.966143Z",
     "iopub.status.idle": "2022-01-27T13:45:00.973334Z",
     "shell.execute_reply": "2022-01-27T13:45:00.971139Z",
     "shell.execute_reply.started": "2022-01-27T13:45:00.966395Z"
    }
   },
   "outputs": [
    {
     "data": {
      "text/plain": [
       "(232365, 28, 28)"
      ]
     },
     "execution_count": 10,
     "metadata": {},
     "output_type": "execute_result"
    }
   ],
   "source": [
    "X.shape"
   ]
  },
  {
   "cell_type": "markdown",
   "metadata": {},
   "source": [
    "### **RBF Model**\n",
    "The centre, the distance scale, and the precise shape of the radial function are parameters of the model, all fixed if it is linear. r2 : Its parameters are its centre c and its radius r. Figure 2 illustrates a Gaussian RBF with centre c = 0 and radius r = 1."
   ]
  },
  {
   "cell_type": "code",
   "execution_count": 11,
   "metadata": {
    "execution": {
     "iopub.execute_input": "2022-01-27T13:48:09.476531Z",
     "iopub.status.busy": "2022-01-27T13:48:09.476034Z",
     "iopub.status.idle": "2022-01-27T13:48:09.516953Z",
     "shell.execute_reply": "2022-01-27T13:48:09.516298Z",
     "shell.execute_reply.started": "2022-01-27T13:48:09.476493Z"
    }
   },
   "outputs": [],
   "source": [
    "class RBFLayer(Layer):\n",
    "    def __init__(self, units, gamma, **kwargs):\n",
    "        super(RBFLayer, self).__init__(**kwargs)\n",
    "        self.units = units\n",
    "        self.gamma = K.cast_to_floatx(gamma)\n",
    "\n",
    "    def build(self, input_shape):\n",
    "        self.mu = self.add_weight(name='mu',\n",
    "                                  shape=(int(input_shape[1]), self.units),\n",
    "                                  initializer='uniform',\n",
    "                                  trainable=True)\n",
    "        super(RBFLayer, self).build(input_shape)\n",
    "\n",
    "    def call(self, inputs):\n",
    "        diff = K.expand_dims(inputs) - self.mu\n",
    "        l2 = K.sum(K.pow(diff, 2), axis=1)\n",
    "        res = K.exp(-1 * self.gamma * l2)\n",
    "        return res\n",
    "\n",
    "    def compute_output_shape(self, input_shape):\n",
    "        return (input_shape[0], self.units)\n",
    "\n",
    "model = Sequential()\n",
    "model.add(Flatten(input_shape=(28, 28)))\n",
    "model.add(RBFLayer(10, 0.5))\n",
    "model.add(Dense(1, activation='sigmoid', name='foo'))\n",
    "\n",
    "''' initializing the loss and optimizer '''\n",
    "model.compile(optimizer='rmsprop', loss=binary_crossentropy)"
   ]
  },
  {
   "cell_type": "code",
   "execution_count": 12,
   "metadata": {
    "execution": {
     "iopub.execute_input": "2022-01-27T13:48:47.443093Z",
     "iopub.status.busy": "2022-01-27T13:48:47.442701Z",
     "iopub.status.idle": "2022-01-27T13:50:41.535253Z",
     "shell.execute_reply": "2022-01-27T13:50:41.534450Z",
     "shell.execute_reply.started": "2022-01-27T13:48:47.443046Z"
    }
   },
   "outputs": [
    {
     "name": "stdout",
     "output_type": "stream",
     "text": [
      "Epoch 1/50\n",
      "908/908 [==============================] - 28s 28ms/step - loss: -4.4745\n",
      "Epoch 2/50\n",
      "908/908 [==============================] - 31s 35ms/step - loss: -24.2075\n",
      "Epoch 3/50\n",
      "908/908 [==============================] - 48s 52ms/step - loss: -43.8412 0s - loss\n",
      "Epoch 4/50\n",
      "908/908 [==============================] - 52s 58ms/step - loss: -63.3831\n",
      "Epoch 5/50\n",
      "908/908 [==============================] - 51s 56ms/step - loss: -82.8962\n",
      "Epoch 6/50\n",
      "908/908 [==============================] - 46s 50ms/step - loss: -102.3834\n",
      "Epoch 7/50\n",
      "908/908 [==============================] - 49s 53ms/step - loss: -121.6799\n",
      "Epoch 8/50\n",
      "908/908 [==============================] - 53s 59ms/step - loss: -141.3230\n",
      "Epoch 9/50\n",
      "908/908 [==============================] - 50s 55ms/step - loss: -160.4764\n",
      "Epoch 10/50\n",
      "908/908 [==============================] - 57s 62ms/step - loss: -180.0515\n",
      "Epoch 11/50\n",
      "908/908 [==============================] - 54s 59ms/step - loss: -257.5229\n",
      "Epoch 15/50\n",
      "908/908 [==============================] - 50s 55ms/step - loss: -277.2563\n",
      "Epoch 16/50\n",
      "908/908 [==============================] - 49s 54ms/step - loss: -295.8297\n",
      "Epoch 17/50\n",
      "908/908 [==============================] - 46s 51ms/step - loss: -316.2363\n",
      "Epoch 18/50\n",
      "908/908 [==============================] - 49s 54ms/step - loss: -335.0740\n",
      "Epoch 19/50\n",
      "908/908 [==============================] - 49s 54ms/step - loss: -354.1123\n",
      "Epoch 20/50\n",
      "908/908 [==============================] - 53s 59ms/step - loss: -374.3161\n",
      "Epoch 21/50\n",
      "908/908 [==============================] - 56s 62ms/step - loss: -432.5668\n",
      "Epoch 24/50\n",
      "908/908 [==============================] - 54s 60ms/step - loss: -452.0473\n",
      "Epoch 25/50\n",
      "908/908 [==============================] - 57s 63ms/step - loss: -471.1455\n",
      "Epoch 26/50\n",
      "908/908 [==============================] - 59s 65ms/step - loss: -490.9692\n",
      "Epoch 27/50\n",
      "908/908 [==============================] - 60s 66ms/step - loss: -510.5892\n",
      "Epoch 28/50\n",
      "908/908 [==============================] - 59s 65ms/step - loss: -529.6084\n",
      "Epoch 29/50\n",
      "908/908 [==============================] - 59s 65ms/step - loss: -549.5618\n",
      "Epoch 30/50\n",
      "908/908 [==============================] - 60s 66ms/step - loss: -569.2253\n",
      "Epoch 31/50\n",
      "908/908 [==============================] - 59s 65ms/step - loss: -589.07200s - l\n",
      "Epoch 32/50\n",
      "908/908 [==============================] - 51s 56ms/step - loss: -608.1900\n",
      "Epoch 33/50\n",
      "908/908 [==============================] - 48s 53ms/step - loss: -625.4135\n",
      "Epoch 34/50\n",
      "908/908 [==============================] - 33s 36ms/step - loss: -645.2274\n",
      "Epoch 35/50\n",
      "908/908 [==============================] - 32s 36ms/step - loss: -666.7462\n",
      "Epoch 36/50\n",
      "908/908 [==============================] - 27s 30ms/step - loss: -685.8782\n",
      "Epoch 37/50\n",
      "908/908 [==============================] - 25s 27ms/step - loss: -706.1016\n",
      "Epoch 38/50\n",
      "908/908 [==============================] - 25s 27ms/step - loss: -724.0435\n",
      "Epoch 39/50\n",
      "908/908 [==============================] - 25s 27ms/step - loss: -742.7514\n",
      "Epoch 40/50\n",
      "908/908 [==============================] - 25s 28ms/step - loss: -761.3269\n",
      "Epoch 41/50\n",
      "908/908 [==============================] - 24s 27ms/step - loss: -781.0558\n",
      "Epoch 42/50\n",
      "908/908 [==============================] - 25s 28ms/step - loss: -802.3239\n",
      "Epoch 43/50\n",
      "908/908 [==============================] - 25s 27ms/step - loss: -822.0417\n",
      "Epoch 44/50\n",
      "908/908 [==============================] - 26s 28ms/step - loss: -840.0269\n",
      "Epoch 45/50\n",
      "908/908 [==============================] - 25s 27ms/step - loss: -859.2262\n",
      "Epoch 46/50\n",
      "908/908 [==============================] - 26s 28ms/step - loss: -880.68970s - loss:\n",
      "Epoch 47/50\n",
      "908/908 [==============================] - 25s 27ms/step - loss: -898.2424\n",
      "Epoch 48/50\n",
      "908/908 [==============================] - 27s 29ms/step - loss: -917.2602\n",
      "Epoch 49/50\n",
      "908/908 [==============================] - 27s 29ms/step - loss: -937.1092\n",
      "Epoch 50/50\n",
      "908/908 [==============================] - 26s 28ms/step - loss: -956.1522\n"
     ]
    },
    {
     "data": {
      "text/plain": [
       "<tensorflow.python.keras.callbacks.History at 0x208c27955e0>"
      ]
     },
     "execution_count": 12,
     "metadata": {},
     "output_type": "execute_result"
    }
   ],
   "source": [
    "''' training '''\n",
    "model.fit(X, y, batch_size=256, epochs=50)"
   ]
  },
  {
   "cell_type": "code",
   "execution_count": null,
   "metadata": {},
   "outputs": [],
   "source": []
  }
 ],
 "metadata": {
  "kernelspec": {
   "display_name": "Python 3",
   "language": "python",
   "name": "python3"
  },
  "language_info": {
   "codemirror_mode": {
    "name": "ipython",
    "version": 3
   },
   "file_extension": ".py",
   "mimetype": "text/x-python",
   "name": "python",
   "nbconvert_exporter": "python",
   "pygments_lexer": "ipython3",
   "version": "3.8.8"
  }
 },
 "nbformat": 4,
 "nbformat_minor": 4
}
