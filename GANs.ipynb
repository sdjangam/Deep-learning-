{
 "cells": [
  {
   "cell_type": "markdown",
   "metadata": {
    "id": "fLfZoh0xcYsO"
   },
   "source": [
    "## **Required Libraries**"
   ]
  },
  {
   "cell_type": "code",
   "execution_count": 21,
   "metadata": {
    "id": "0-Wr0Z2Hr_FF"
   },
   "outputs": [],
   "source": [
    "import tensorflow as tf \n",
    "import matplotlib.pyplot as plt\n",
    "import numpy as np\n",
    "from tensorflow.keras import layers\n",
    "import time\n",
    "\n",
    "from IPython import display"
   ]
  },
  {
   "cell_type": "markdown",
   "metadata": {
    "id": "Nh0C1iVRcEwA"
   },
   "source": [
    "## **loading MNIST dataset**\n",
    " It is a dataset of 60,000 small square 28×28 pixel grayscale images of handwritten single digits between 0 and 9"
   ]
  },
  {
   "cell_type": "code",
   "execution_count": 22,
   "metadata": {
    "id": "jyPKsszKsAeC"
   },
   "outputs": [],
   "source": [
    "''' loading mnist dataset '''\n",
    "(X_train, y_train), (X_test, y_test) = tf.keras.datasets.mnist.load_data()"
   ]
  },
  {
   "cell_type": "code",
   "execution_count": 23,
   "metadata": {
    "colab": {
     "base_uri": "https://localhost:8080/"
    },
    "id": "hsMKo_HDsQGD",
    "outputId": "ba881ef3-3cdf-4dd5-ae32-d5b3c4fb069d"
   },
   "outputs": [
    {
     "name": "stdout",
     "output_type": "stream",
     "text": [
      "(60000, 28, 28)\n",
      "(10000, 28, 28)\n"
     ]
    }
   ],
   "source": [
    "''' checking shape '''\n",
    "print(X_train.shape)\n",
    "print(X_test.shape)"
   ]
  },
  {
   "cell_type": "code",
   "execution_count": 24,
   "metadata": {
    "colab": {
     "base_uri": "https://localhost:8080/",
     "height": 466
    },
    "id": "kzGY4pZCwrCm",
    "outputId": "02f9da0f-8e2a-4de6-bb09-00714c347686"
   },
   "outputs": [
    {
     "data": {
      "image/png": "[encoded data removed]",
      "text/plain": [
       "<Figure size 720x576 with 16 Axes>"
      ]
     },
     "metadata": {
      "needs_background": "light"
     },
     "output_type": "display_data"
    }
   ],
   "source": [
    "''' plotting some  images '''\n",
    "plt.figure(figsize=(10, 8))\n",
    "for i in range(16):\n",
    "  plt.subplot(4, 4, i + 1)\n",
    "  plt.imshow(X_train[i])\n",
    "  plt.axis('off')\n",
    "plt.show()"
   ]
  },
  {
   "cell_type": "markdown",
   "metadata": {
    "id": "92xUFBpZcguG"
   },
   "source": [
    "## **Reshaping and Normalizing the images**"
   ]
  },
  {
   "cell_type": "code",
   "execution_count": 25,
   "metadata": {
    "id": "HHFr3VCPuAHZ"
   },
   "outputs": [],
   "source": [
    "X_train = X_train.reshape(X_train.shape[0], 28, 28, 1).astype('float32')\n",
    "X_train = (X_train - 127.5) / 127.5"
   ]
  },
  {
   "cell_type": "code",
   "execution_count": 26,
   "metadata": {
    "colab": {
     "base_uri": "https://localhost:8080/"
    },
    "id": "8fh82vvQugKq",
    "outputId": "75e1b6cb-cd6b-4a42-e205-d8fbf6f87da3"
   },
   "outputs": [
    {
     "name": "stdout",
     "output_type": "stream",
     "text": [
      "(60000, 28, 28, 1)\n",
      "(10000, 28, 28)\n"
     ]
    }
   ],
   "source": [
    "''' checking shape of X_trian and X_test '''\n",
    "print(X_train.shape)\n",
    "print(X_test.shape)"
   ]
  },
  {
   "cell_type": "code",
   "execution_count": 27,
   "metadata": {
    "id": "-wWsrA81sZDv"
   },
   "outputs": [],
   "source": [
    "''' loading data in batches '''\n",
    "X_train = tf.data.Dataset.from_tensor_slices(X_train).shuffle(100).batch(128)"
   ]
  },
  {
   "cell_type": "markdown",
   "metadata": {
    "id": "W0xqLVVJb1vj"
   },
   "source": [
    "# **GAN's**\n",
    "- GAN's have two models one is generator, generator learns to create images that look real, while a discriminator learns to tell real images apart from fakes"
   ]
  },
  {
   "cell_type": "markdown",
   "metadata": {
    "id": "zNtgdEyqcueo"
   },
   "source": [
    "## **Generator Model**\n",
    "- Conv2DTranspose Layer \n",
    "- Batch Normalization\n",
    "- LeakyReLU\n"
   ]
  },
  {
   "cell_type": "code",
   "execution_count": 28,
   "metadata": {
    "id": "aPRbqnNmsrvZ"
   },
   "outputs": [],
   "source": [
    "''' building generator model '''\n",
    "def generator_model():\n",
    "  model = tf.keras.Sequential()\n",
    "\n",
    "  ''' dense layer '''\n",
    "  model.add(layers.Dense(7*7*256, use_bias=False, input_shape=(100,)))\n",
    "  model.add(layers.BatchNormalization())\n",
    "  model.add(layers.LeakyReLU())\n",
    "\n",
    "  ''' reshaping the output image ''' \n",
    "  model.add(layers.Reshape((7, 7, 256)))\n",
    "  assert model.output_shape == (None, 7, 7, 256)  \n",
    "\n",
    "  ''' conv2DTransposer layer 1 '''\n",
    "  model.add(layers.Conv2DTranspose(128, (5, 5), strides=(1, 1), padding='same', use_bias=False))\n",
    "  assert model.output_shape == (None, 7, 7, 128)\n",
    "  model.add(layers.BatchNormalization())\n",
    "  model.add(layers.LeakyReLU())\n",
    "\n",
    "  ''' conv2DTransposer layer 2 '''\n",
    "  model.add(layers.Conv2DTranspose(64, (5, 5), strides=(2, 2), padding='same', use_bias=False))\n",
    "  assert model.output_shape == (None, 14, 14, 64)\n",
    "  model.add(layers.BatchNormalization())\n",
    "  model.add(layers.LeakyReLU())\n",
    "\n",
    "  ''' conv2DTransposer layer 3 '''\n",
    "  model.add(layers.Conv2DTranspose(1, (5, 5), strides=(2, 2), padding='same', use_bias=False, activation='tanh'))\n",
    "  assert model.output_shape == (None, 28, 28, 1)\n",
    "\n",
    "  return model"
   ]
  },
  {
   "cell_type": "code",
   "execution_count": 29,
   "metadata": {
    "colab": {
     "base_uri": "https://localhost:8080/",
     "height": 248
    },
    "id": "SwWgo5wdxW0f",
    "outputId": "8d5cfaec-45b1-400a-ac01-757993cc578a"
   },
   "outputs": [
    {
     "data": {
      "image/png": "[encoded data removed]",
      "text/plain": [
       "<Figure size 432x288 with 1 Axes>"
      ]
     },
     "metadata": {
      "needs_background": "light"
     },
     "output_type": "display_data"
    }
   ],
   "source": [
    "generator = generator_model()\n",
    "\n",
    "''' creating random data '''\n",
    "noise = tf.random.normal([1, 100])\n",
    "output_img = generator(noise, training=False)\n",
    "\n",
    "''' plotting the output image '''\n",
    "plt.imshow(output_img[0, :, :, 0], cmap='gray')\n",
    "plt.axis('off');"
   ]
  },
  {
   "cell_type": "markdown",
   "metadata": {
    "id": "FMan3rYjc2Ka"
   },
   "source": [
    "## **Discriminator Model**\n",
    "- Conv2D Layer for feature extraction\n",
    "- Dropout Layer \n",
    "- Flatten Layer\n",
    "- Dense Layer"
   ]
  },
  {
   "cell_type": "code",
   "execution_count": 30,
   "metadata": {
    "id": "RdHbkkBrx74r"
   },
   "outputs": [],
   "source": [
    "''' building discriminator model '''\n",
    "def discriminator_model():\n",
    "    model = tf.keras.Sequential()\n",
    "\n",
    "    ''' conv layer 1 '''\n",
    "    model.add(layers.Conv2D(64, (5, 5), strides=(2, 2), padding='same', input_shape=[28, 28, 1]))\n",
    "    model.add(layers.LeakyReLU())\n",
    "    ''' Dropout layer '''\n",
    "    model.add(layers.Dropout(0.3))\n",
    "\n",
    "    ''' conv layer 2 '''\n",
    "    model.add(layers.Conv2D(128, (5, 5), strides=(2, 2), padding='same'))\n",
    "    model.add(layers.LeakyReLU())\n",
    "    ''' Droput layer ''' \n",
    "    model.add(layers.Dropout(0.3))\n",
    "\n",
    "    ''' Flattening the output image '''\n",
    "    model.add(layers.Flatten())\n",
    "    ''' classification laeyr '''\n",
    "    model.add(layers.Dense(1))\n",
    "\n",
    "    return model"
   ]
  },
  {
   "cell_type": "code",
   "execution_count": 31,
   "metadata": {
    "id": "Pxw0WmBdyM0k"
   },
   "outputs": [],
   "source": [
    "discriminator = discriminator_model()\n",
    "result = discriminator(output_img)"
   ]
  },
  {
   "cell_type": "code",
   "execution_count": 32,
   "metadata": {
    "colab": {
     "base_uri": "https://localhost:8080/"
    },
    "id": "Zp2SOLdryzjt",
    "outputId": "4d17e311-331a-43c9-d735-58a72dc955a2"
   },
   "outputs": [
    {
     "name": "stdout",
     "output_type": "stream",
     "text": [
      "tf.Tensor([[0.00178504]], shape=(1, 1), dtype=float32)\n"
     ]
    }
   ],
   "source": [
    "print(result)"
   ]
  },
  {
   "cell_type": "markdown",
   "metadata": {
    "id": "w6hgzJ2Id7y6"
   },
   "source": [
    "## **Cross Entropy**\n",
    "Cross-entropy is a measure of the difference between two probability distributions for a given random variable or set of events"
   ]
  },
  {
   "cell_type": "code",
   "execution_count": 33,
   "metadata": {
    "id": "9CYJuh69zPgu"
   },
   "outputs": [],
   "source": [
    "cross_entropy = tf.keras.losses.BinaryCrossentropy(from_logits=True)"
   ]
  },
  {
   "cell_type": "code",
   "execution_count": 34,
   "metadata": {
    "id": "hkXia5k5zRPA"
   },
   "outputs": [],
   "source": [
    "''' descriminator loss and generator loss '''\n",
    "def dis_loss(real_output, fake_output):\n",
    "    real_loss = cross_entropy(tf.ones_like(real_output), real_output)\n",
    "    fake_loss = cross_entropy(tf.zeros_like(fake_output), fake_output)\n",
    "    total_loss = real_loss + fake_loss\n",
    "    return total_loss\n",
    "  \n",
    "def ge_loss(fake_output):\n",
    "    return cross_entropy(tf.ones_like(fake_output), fake_output)"
   ]
  },
  {
   "cell_type": "markdown",
   "metadata": {
    "id": "8z9zHXGfeqMD"
   },
   "source": [
    "## **Optimizer**"
   ]
  },
  {
   "cell_type": "code",
   "execution_count": 35,
   "metadata": {
    "id": "ijVsBRX8y2Uf"
   },
   "outputs": [],
   "source": [
    "''' discriminator optimizer and generator optimizer ''' \n",
    "gen_optimizer = tf.keras.optimizers.Adam(1e-4)\n",
    "dis_optimizer = tf.keras.optimizers.Adam(1e-4)"
   ]
  },
  {
   "cell_type": "code",
   "execution_count": 36,
   "metadata": {
    "id": "x5ReRJPi0KgO"
   },
   "outputs": [],
   "source": [
    "''' setting up some parameters '''\n",
    "EPOCHS = 50\n",
    "noise_dim = 100\n",
    "num_examples_to_generate = 16\n",
    "\n",
    "''' creating radom seed '''\n",
    "seed = tf.random.normal([num_examples_to_generate, noise_dim])"
   ]
  },
  {
   "cell_type": "code",
   "execution_count": 37,
   "metadata": {
    "colab": {
     "base_uri": "https://localhost:8080/"
    },
    "id": "nk9vGys-0dYb",
    "outputId": "0346078f-1028-409b-ff6d-2ffe91442568"
   },
   "outputs": [
    {
     "data": {
      "text/plain": [
       "<tf.Tensor: shape=(16, 100), dtype=float32, numpy=\n",
       "array([[ 0.962765  , -0.61838347, -0.44604307, ...,  0.20193213,\n",
       "         0.9592353 , -1.2476274 ],\n",
       "       [ 1.1005477 , -0.9285707 ,  0.14011423, ...,  0.79503095,\n",
       "         0.43012297, -1.2184714 ],\n",
       "       [-1.186383  ,  1.5729005 , -1.0412682 , ...,  1.0747546 ,\n",
       "         1.925013  ,  0.6637318 ],\n",
       "       ...,\n",
       "       [ 0.05919628,  0.02519869,  0.80696255, ..., -1.5175749 ,\n",
       "        -0.36573014, -0.2196196 ],\n",
       "       [ 0.7130199 ,  0.98796725, -0.30207217, ...,  1.2719723 ,\n",
       "         2.0127404 ,  1.593073  ],\n",
       "       [ 0.6560649 ,  0.2653875 ,  0.25765148, ...,  0.7158281 ,\n",
       "        -0.62604696,  1.4174078 ]], dtype=float32)>"
      ]
     },
     "execution_count": 37,
     "metadata": {},
     "output_type": "execute_result"
    }
   ],
   "source": [
    "seed"
   ]
  },
  {
   "cell_type": "markdown",
   "metadata": {
    "id": "uzA0sJ4-eOVy"
   },
   "source": [
    "## **Training**"
   ]
  },
  {
   "cell_type": "code",
   "execution_count": 38,
   "metadata": {
    "id": "JPMJ9z9k0d-j"
   },
   "outputs": [],
   "source": [
    "''' training '''\n",
    "\n",
    "@tf.function\n",
    "def train_step(images):\n",
    "    noise = tf.random.normal([128, noise_dim])\n",
    "\n",
    "    with tf.GradientTape() as gen_tape, tf.GradientTape() as disc_tape:\n",
    "      generated_images = generator(noise, training=True)\n",
    "\n",
    "      real_output = discriminator(images, training=True)\n",
    "      fake_output = discriminator(generated_images, training=True)\n",
    "\n",
    "      gen_loss = ge_loss(fake_output)\n",
    "      disc_loss = dis_loss(real_output, fake_output)\n",
    "\n",
    "    gen_grad = gen_tape.gradient(gen_loss, generator.trainable_variables)\n",
    "    dis_grad = disc_tape.gradient(disc_loss, discriminator.trainable_variables)\n",
    "\n",
    "    gen_optimizer.apply_gradients(zip(gen_grad, generator.trainable_variables))\n",
    "    dis_optimizer.apply_gradients(zip(dis_grad, discriminator.trainable_variables))\n",
    "  \n",
    "def train(dataset, epochs):\n",
    "  for epoch in range(epochs):\n",
    "    start = time.time()\n",
    "\n",
    "    for image_batch in dataset:\n",
    "      train_step(image_batch)"
   ]
  },
  {
   "cell_type": "code",
   "execution_count": 39,
   "metadata": {
    "id": "eJsgdNST1fL_"
   },
   "outputs": [],
   "source": [
    "''' generating images and plotting images ''' \n",
    "def generate_and_save_images(model, epoch, test_input):\n",
    "  predictions = model(test_input, training=False)\n",
    "\n",
    "  fig = plt.figure(figsize=(4, 4))\n",
    "\n",
    "  for i in range(predictions.shape[0]):\n",
    "      plt.subplot(4, 4, i+1)\n",
    "      plt.imshow(predictions[i, :, :, 0] * 127.5 + 127.5, cmap='gray')\n",
    "      plt.axis('off')\n",
    "  plt.show()"
   ]
  },
  {
   "cell_type": "code",
   "execution_count": 40,
   "metadata": {
    "id": "8tg70fTz1wdy"
   },
   "outputs": [],
   "source": [
    "train(X_train, EPOCHS)"
   ]
  },
  {
   "cell_type": "code",
   "execution_count": null,
   "metadata": {
    "id": "YN9MiabDEAZE"
   },
   "outputs": [],
   "source": []
  },
  {
   "cell_type": "code",
   "execution_count": null,
   "metadata": {
    "id": "_M-jUo4gHK1Z"
   },
   "outputs": [],
   "source": []
  }
 ],
 "metadata": {
  "accelerator": "GPU",
  "colab": {
   "collapsed_sections": [],
   "name": "GANs.ipynb",
   "provenance": []
  },
  "kernelspec": {
   "display_name": "Python 3",
   "language": "python",
   "name": "python3"
  },
  "language_info": {
   "codemirror_mode": {
    "name": "ipython",
    "version": 3
   },
   "file_extension": ".py",
   "mimetype": "text/x-python",
   "name": "python",
   "nbconvert_exporter": "python",
   "pygments_lexer": "ipython3",
   "version": "3.8.8"
  }
 },
 "nbformat": 4,
 "nbformat_minor": 1
}
