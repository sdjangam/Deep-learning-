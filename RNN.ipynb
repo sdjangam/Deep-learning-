{
  "nbformat": 4,
  "nbformat_minor": 0,
  "metadata": {
    "colab": {
      "name": "RNN.ipynb",
      "provenance": [],
      "collapsed_sections": []
    },
    "kernelspec": {
      "name": "python3",
      "display_name": "Python 3"
    },
    "language_info": {
      "name": "python"
    },
    "accelerator": "GPU"
  },
  "cells": [
    {
      "cell_type": "markdown",
      "source": [
        "## **Recurrent Neural Network**\n",
        "`Recurrent Neural Network(RNN)` are a type of Neural Network where the output from previous step are fed as input to the current step. ... It uses the same parameters for each input as it performs the same task on all the inputs or hidden layers to produce the output."
      ],
      "metadata": {
        "id": "em9h4EYynDKK"
      }
    },
    {
      "cell_type": "markdown",
      "source": [
        "#### **Required Libraries**"
      ],
      "metadata": {
        "id": "UL4tD-qdmmZF"
      }
    },
    {
      "cell_type": "code",
      "source": [
        "import numpy as np\n",
        "import tensorflow as tf\n",
        "from tensorflow.keras.models import Sequential\n",
        "from tensorflow.keras.layers import Dense, Dropout, LSTM"
      ],
      "metadata": {
        "id": "ST9FRwHqmmtp"
      },
      "execution_count": 1,
      "outputs": []
    },
    {
      "cell_type": "markdown",
      "source": [
        "#### **We will be using the mnist dataset in this code**"
      ],
      "metadata": {
        "id": "4AI7v3xVm4lA"
      }
    },
    {
      "cell_type": "code",
      "source": [
        "''' dataset '''\n",
        "mnist = tf.keras.datasets.mnist\n",
        "\n",
        "(X_train, y_train), (X_test, y_test) = mnist.load_data()"
      ],
      "metadata": {
        "colab": {
          "base_uri": "https://localhost:8080/"
        },
        "id": "SwWEko7jmmyU",
        "outputId": "eb032306-6277-4744-e0af-c5b941abb217"
      },
      "execution_count": 2,
      "outputs": [
        {
          "output_type": "stream",
          "name": "stdout",
          "text": [
            "Downloading data from https://storage.googleapis.com/tensorflow/tf-keras-datasets/mnist.npz\n",
            "11493376/11490434 [==============================] - 0s 0us/step\n",
            "11501568/11490434 [==============================] - 0s 0us/step\n"
          ]
        }
      ]
    },
    {
      "cell_type": "code",
      "source": [
        "print(X_train.shape)\n",
        "print(X_test.shape)"
      ],
      "metadata": {
        "colab": {
          "base_uri": "https://localhost:8080/"
        },
        "id": "syYHwAOfmm2R",
        "outputId": "14e39d82-5ee3-4045-bc3b-b07813e69b81"
      },
      "execution_count": 3,
      "outputs": [
        {
          "output_type": "stream",
          "name": "stdout",
          "text": [
            "(60000, 28, 28)\n",
            "(10000, 28, 28)\n"
          ]
        }
      ]
    },
    {
      "cell_type": "markdown",
      "source": [
        "#### **Normalizing the data**"
      ],
      "metadata": {
        "id": "veCxnlMmo4Nv"
      }
    },
    {
      "cell_type": "code",
      "source": [
        "X_train = X_train / 255.0\n",
        "X_test = X_test / 255.0"
      ],
      "metadata": {
        "id": "oW8LZgzLo3IG"
      },
      "execution_count": 4,
      "outputs": []
    },
    {
      "cell_type": "markdown",
      "source": [
        "## **Building the model**"
      ],
      "metadata": {
        "id": "tJQNeuMJmxqw"
      }
    },
    {
      "cell_type": "code",
      "source": [
        "model = Sequential()\n",
        "\n",
        "model.add(LSTM(128, input_shape=(X_train.shape[1:]), activation='relu', return_sequences=True))\n",
        "model.add(Dropout(0.2))\n",
        "\n",
        "model.add(LSTM(128, activation='relu'))\n",
        "model.add(Dropout(0.2))\n",
        "\n",
        "model.add(Dense(32, activation='relu'))\n",
        "model.add(Dropout(0.2))\n",
        "\n",
        "model.add(Dense(10, activation='softmax'))"
      ],
      "metadata": {
        "colab": {
          "base_uri": "https://localhost:8080/"
        },
        "id": "qSWkkEaXmm6b",
        "outputId": "1a8a235b-8a2c-49b6-8bf3-c8b2469c7749"
      },
      "execution_count": 5,
      "outputs": [
        {
          "output_type": "stream",
          "name": "stdout",
          "text": [
            "WARNING:tensorflow:Layer lstm will not use cuDNN kernels since it doesn't meet the criteria. It will use a generic GPU kernel as fallback when running on GPU.\n",
            "WARNING:tensorflow:Layer lstm_1 will not use cuDNN kernels since it doesn't meet the criteria. It will use a generic GPU kernel as fallback when running on GPU.\n"
          ]
        }
      ]
    },
    {
      "cell_type": "code",
      "source": [
        "\"\"\" compiling the model \"\"\" \n",
        "opt = tf.keras.optimizers.Adam(learning_rate=1e-3, decay=1e-5)\n",
        "model.compile(loss='sparse_categorical_crossentropy',\n",
        "              optimizer = opt, metrics=['accuracy'])"
      ],
      "metadata": {
        "id": "CORRsYNGmm-n"
      },
      "execution_count": 6,
      "outputs": []
    },
    {
      "cell_type": "code",
      "source": [
        "\"\"\" training \"\"\" \n",
        "\n",
        "model.fit(X_train, y_train, epochs = 5, validation_data=(X_test, y_test), batch_size=(64))"
      ],
      "metadata": {
        "colab": {
          "base_uri": "https://localhost:8080/"
        },
        "id": "XeXMSx4DmnCX",
        "outputId": "b98c744f-0b3f-445a-d78c-ce6fe4c166a4"
      },
      "execution_count": 7,
      "outputs": [
        {
          "output_type": "stream",
          "name": "stdout",
          "text": [
            "Epoch 1/5\n",
            "938/938 [==============================] - 109s 112ms/step - loss: 0.7287 - accuracy: 0.7630 - val_loss: 0.1901 - val_accuracy: 0.9453\n",
            "Epoch 2/5\n",
            "938/938 [==============================] - 106s 113ms/step - loss: 0.1912 - accuracy: 0.9482 - val_loss: 0.1032 - val_accuracy: 0.9705\n",
            "Epoch 3/5\n",
            "938/938 [==============================] - 101s 108ms/step - loss: 0.1213 - accuracy: 0.9680 - val_loss: 0.0701 - val_accuracy: 0.9808\n",
            "Epoch 4/5\n",
            "938/938 [==============================] - 100s 107ms/step - loss: 0.0952 - accuracy: 0.9736 - val_loss: 0.0705 - val_accuracy: 0.9806\n",
            "Epoch 5/5\n",
            "938/938 [==============================] - 100s 107ms/step - loss: 0.0815 - accuracy: 0.9791 - val_loss: 0.0730 - val_accuracy: 0.9797\n"
          ]
        },
        {
          "output_type": "execute_result",
          "data": {
            "text/plain": [
              "<keras.callbacks.History at 0x7ff55c1c9790>"
            ]
          },
          "metadata": {},
          "execution_count": 7
        }
      ]
    },
    {
      "cell_type": "code",
      "execution_count": 8,
      "metadata": {
        "colab": {
          "base_uri": "https://localhost:8080/"
        },
        "id": "vgXtf5WemlUf",
        "outputId": "99c22d57-595a-441b-8c4d-127173623ebb"
      },
      "outputs": [
        {
          "output_type": "stream",
          "name": "stdout",
          "text": [
            "import numpy as np\n",
            "import tensorflow as tf\n",
            "from tensorflow.keras.models import Sequential\n",
            "from tensorflow.keras.layers import Dense, Dropout, LSTM\n",
            "''' dataset '''\n",
            "mnist = tf.keras.datasets.mnist\n",
            "\n",
            "(X_train, y_train), (X_test, y_test) = mnist.load_data()\n",
            "print(X_train.shape)\n",
            "print(X_test.shape)\n",
            "X_train = X_train / 255.0\n",
            "X_test = X_test / 255.0\n",
            "model = Sequential()\n",
            "\n",
            "model.add(LSTM(128, input_shape=(X_train.shape[1:]), activation='relu', return_sequences=True))\n",
            "model.add(Dropout(0.2))\n",
            "\n",
            "model.add(LSTM(128, activation='relu'))\n",
            "model.add(Dropout(0.2))\n",
            "\n",
            "model.add(Dense(32, activation='relu'))\n",
            "model.add(Dropout(0.2))\n",
            "\n",
            "model.add(Dense(10, activation='softmax'))\n",
            "\"\"\" compiling the model \"\"\" \n",
            "opt = tf.keras.optimizers.Adam(learning_rate=1e-3, decay=1e-5)\n",
            "model.compile(loss='sparse_categorical_crossentropy',\n",
            "              optimizer = opt, metrics=['accuracy'])\n",
            "\"\"\" training \"\"\" \n",
            "\n",
            "model.fit(X_train, y_train, epochs = 5, validation_data=(X_test, y_test), batch_size=(64))\n",
            "history\n"
          ]
        }
      ],
      "source": [
        "history"
      ]
    },
    {
      "cell_type": "code",
      "source": [
        ""
      ],
      "metadata": {
        "id": "pXWa52y5r6NH"
      },
      "execution_count": null,
      "outputs": []
    }
  ]
}