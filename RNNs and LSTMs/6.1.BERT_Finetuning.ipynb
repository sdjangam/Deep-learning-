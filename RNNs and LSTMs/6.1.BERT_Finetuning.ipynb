{
  "nbformat": 4,
  "nbformat_minor": 0,
  "metadata": {
    "colab": {
      "name": "BERT-Finetuning.ipynb",
      "provenance": [],
      "collapsed_sections": []
    },
    "kernelspec": {
      "name": "python3",
      "display_name": "Python 3"
    },
    "widgets": {
      "application/vnd.jupyter.widget-state+json": {
        "52d8c2b6e2064c009355f8ec1fc961bd": {
          "model_module": "@jupyter-widgets/controls",
          "model_name": "HBoxModel",
          "state": {
            "_view_name": "HBoxView",
            "_dom_classes": [],
            "_model_name": "HBoxModel",
            "_view_module": "@jupyter-widgets/controls",
            "_model_module_version": "1.5.0",
            "_view_count": null,
            "_view_module_version": "1.5.0",
            "box_style": "",
            "layout": "IPY_MODEL_8a2b609241e94683b3913aab41574d5c",
            "_model_module": "@jupyter-widgets/controls",
            "children": [
              "IPY_MODEL_64e2cbb0b9e643e58c314850d3f7de56",
              "IPY_MODEL_95cb695f218d40a687eaa04a7d3021ac"
            ]
          }
        },
        "8a2b609241e94683b3913aab41574d5c": {
          "model_module": "@jupyter-widgets/base",
          "model_name": "LayoutModel",
          "state": {
            "_view_name": "LayoutView",
            "grid_template_rows": null,
            "right": null,
            "justify_content": null,
            "_view_module": "@jupyter-widgets/base",
            "overflow": null,
            "_model_module_version": "1.2.0",
            "_view_count": null,
            "flex_flow": null,
            "width": null,
            "min_width": null,
            "border": null,
            "align_items": null,
            "bottom": null,
            "_model_module": "@jupyter-widgets/base",
            "top": null,
            "grid_column": null,
            "overflow_y": null,
            "overflow_x": null,
            "grid_auto_flow": null,
            "grid_area": null,
            "grid_template_columns": null,
            "flex": null,
            "_model_name": "LayoutModel",
            "justify_items": null,
            "grid_row": null,
            "max_height": null,
            "align_content": null,
            "visibility": null,
            "align_self": null,
            "height": null,
            "min_height": null,
            "padding": null,
            "grid_auto_rows": null,
            "grid_gap": null,
            "max_width": null,
            "order": null,
            "_view_module_version": "1.2.0",
            "grid_template_areas": null,
            "object_position": null,
            "object_fit": null,
            "grid_auto_columns": null,
            "margin": null,
            "display": null,
            "left": null
          }
        },
        "64e2cbb0b9e643e58c314850d3f7de56": {
          "model_module": "@jupyter-widgets/controls",
          "model_name": "FloatProgressModel",
          "state": {
            "_view_name": "ProgressView",
            "style": "IPY_MODEL_218101df50ea467fae16be10178e0cd6",
            "_dom_classes": [],
            "description": "Downloading: 100%",
            "_model_name": "FloatProgressModel",
            "bar_style": "success",
            "max": 231508,
            "_view_module": "@jupyter-widgets/controls",
            "_model_module_version": "1.5.0",
            "value": 231508,
            "_view_count": null,
            "_view_module_version": "1.5.0",
            "orientation": "horizontal",
            "min": 0,
            "description_tooltip": null,
            "_model_module": "@jupyter-widgets/controls",
            "layout": "IPY_MODEL_70a94be255504575b7efefad7b2c7435"
          }
        },
        "95cb695f218d40a687eaa04a7d3021ac": {
          "model_module": "@jupyter-widgets/controls",
          "model_name": "HTMLModel",
          "state": {
            "_view_name": "HTMLView",
            "style": "IPY_MODEL_c857a0db451e4d68a39a9328717966db",
            "_dom_classes": [],
            "description": "",
            "_model_name": "HTMLModel",
            "placeholder": "​",
            "_view_module": "@jupyter-widgets/controls",
            "_model_module_version": "1.5.0",
            "value": " 232k/232k [00:00&lt;00:00, 786kB/s]",
            "_view_count": null,
            "_view_module_version": "1.5.0",
            "description_tooltip": null,
            "_model_module": "@jupyter-widgets/controls",
            "layout": "IPY_MODEL_f1334c6b84994bc2a00d4d14ccc6b1f8"
          }
        },
        "218101df50ea467fae16be10178e0cd6": {
          "model_module": "@jupyter-widgets/controls",
          "model_name": "ProgressStyleModel",
          "state": {
            "_view_name": "StyleView",
            "_model_name": "ProgressStyleModel",
            "description_width": "initial",
            "_view_module": "@jupyter-widgets/base",
            "_model_module_version": "1.5.0",
            "_view_count": null,
            "_view_module_version": "1.2.0",
            "bar_color": null,
            "_model_module": "@jupyter-widgets/controls"
          }
        },
        "70a94be255504575b7efefad7b2c7435": {
          "model_module": "@jupyter-widgets/base",
          "model_name": "LayoutModel",
          "state": {
            "_view_name": "LayoutView",
            "grid_template_rows": null,
            "right": null,
            "justify_content": null,
            "_view_module": "@jupyter-widgets/base",
            "overflow": null,
            "_model_module_version": "1.2.0",
            "_view_count": null,
            "flex_flow": null,
            "width": null,
            "min_width": null,
            "border": null,
            "align_items": null,
            "bottom": null,
            "_model_module": "@jupyter-widgets/base",
            "top": null,
            "grid_column": null,
            "overflow_y": null,
            "overflow_x": null,
            "grid_auto_flow": null,
            "grid_area": null,
            "grid_template_columns": null,
            "flex": null,
            "_model_name": "LayoutModel",
            "justify_items": null,
            "grid_row": null,
            "max_height": null,
            "align_content": null,
            "visibility": null,
            "align_self": null,
            "height": null,
            "min_height": null,
            "padding": null,
            "grid_auto_rows": null,
            "grid_gap": null,
            "max_width": null,
            "order": null,
            "_view_module_version": "1.2.0",
            "grid_template_areas": null,
            "object_position": null,
            "object_fit": null,
            "grid_auto_columns": null,
            "margin": null,
            "display": null,
            "left": null
          }
        },
        "c857a0db451e4d68a39a9328717966db": {
          "model_module": "@jupyter-widgets/controls",
          "model_name": "DescriptionStyleModel",
          "state": {
            "_view_name": "StyleView",
            "_model_name": "DescriptionStyleModel",
            "description_width": "",
            "_view_module": "@jupyter-widgets/base",
            "_model_module_version": "1.5.0",
            "_view_count": null,
            "_view_module_version": "1.2.0",
            "_model_module": "@jupyter-widgets/controls"
          }
        },
        "f1334c6b84994bc2a00d4d14ccc6b1f8": {
          "model_module": "@jupyter-widgets/base",
          "model_name": "LayoutModel",
          "state": {
            "_view_name": "LayoutView",
            "grid_template_rows": null,
            "right": null,
            "justify_content": null,
            "_view_module": "@jupyter-widgets/base",
            "overflow": null,
            "_model_module_version": "1.2.0",
            "_view_count": null,
            "flex_flow": null,
            "width": null,
            "min_width": null,
            "border": null,
            "align_items": null,
            "bottom": null,
            "_model_module": "@jupyter-widgets/base",
            "top": null,
            "grid_column": null,
            "overflow_y": null,
            "overflow_x": null,
            "grid_auto_flow": null,
            "grid_area": null,
            "grid_template_columns": null,
            "flex": null,
            "_model_name": "LayoutModel",
            "justify_items": null,
            "grid_row": null,
            "max_height": null,
            "align_content": null,
            "visibility": null,
            "align_self": null,
            "height": null,
            "min_height": null,
            "padding": null,
            "grid_auto_rows": null,
            "grid_gap": null,
            "max_width": null,
            "order": null,
            "_view_module_version": "1.2.0",
            "grid_template_areas": null,
            "object_position": null,
            "object_fit": null,
            "grid_auto_columns": null,
            "margin": null,
            "display": null,
            "left": null
          }
        },
        "17084bdb861949018ebb3e7d601df1c5": {
          "model_module": "@jupyter-widgets/controls",
          "model_name": "HBoxModel",
          "state": {
            "_view_name": "HBoxView",
            "_dom_classes": [],
            "_model_name": "HBoxModel",
            "_view_module": "@jupyter-widgets/controls",
            "_model_module_version": "1.5.0",
            "_view_count": null,
            "_view_module_version": "1.5.0",
            "box_style": "",
            "layout": "IPY_MODEL_a49d3746b9de4dc1b3ec5e2b20e4cede",
            "_model_module": "@jupyter-widgets/controls",
            "children": [
              "IPY_MODEL_05d262bbd3af4786938a176ba0e29822",
              "IPY_MODEL_de0fae2ad9e440588c8054524d0d7b9d"
            ]
          }
        },
        "a49d3746b9de4dc1b3ec5e2b20e4cede": {
          "model_module": "@jupyter-widgets/base",
          "model_name": "LayoutModel",
          "state": {
            "_view_name": "LayoutView",
            "grid_template_rows": null,
            "right": null,
            "justify_content": null,
            "_view_module": "@jupyter-widgets/base",
            "overflow": null,
            "_model_module_version": "1.2.0",
            "_view_count": null,
            "flex_flow": null,
            "width": null,
            "min_width": null,
            "border": null,
            "align_items": null,
            "bottom": null,
            "_model_module": "@jupyter-widgets/base",
            "top": null,
            "grid_column": null,
            "overflow_y": null,
            "overflow_x": null,
            "grid_auto_flow": null,
            "grid_area": null,
            "grid_template_columns": null,
            "flex": null,
            "_model_name": "LayoutModel",
            "justify_items": null,
            "grid_row": null,
            "max_height": null,
            "align_content": null,
            "visibility": null,
            "align_self": null,
            "height": null,
            "min_height": null,
            "padding": null,
            "grid_auto_rows": null,
            "grid_gap": null,
            "max_width": null,
            "order": null,
            "_view_module_version": "1.2.0",
            "grid_template_areas": null,
            "object_position": null,
            "object_fit": null,
            "grid_auto_columns": null,
            "margin": null,
            "display": null,
            "left": null
          }
        },
        "05d262bbd3af4786938a176ba0e29822": {
          "model_module": "@jupyter-widgets/controls",
          "model_name": "FloatProgressModel",
          "state": {
            "_view_name": "ProgressView",
            "style": "IPY_MODEL_6df5e7238a924609902dcd1bfbba5fcc",
            "_dom_classes": [],
            "description": "Downloading: 100%",
            "_model_name": "FloatProgressModel",
            "bar_style": "success",
            "max": 443,
            "_view_module": "@jupyter-widgets/controls",
            "_model_module_version": "1.5.0",
            "value": 443,
            "_view_count": null,
            "_view_module_version": "1.5.0",
            "orientation": "horizontal",
            "min": 0,
            "description_tooltip": null,
            "_model_module": "@jupyter-widgets/controls",
            "layout": "IPY_MODEL_2ee4030aba9446caaeede0f5ca8b75b6"
          }
        },
        "de0fae2ad9e440588c8054524d0d7b9d": {
          "model_module": "@jupyter-widgets/controls",
          "model_name": "HTMLModel",
          "state": {
            "_view_name": "HTMLView",
            "style": "IPY_MODEL_d5da7375ace0417c8953266ae969a702",
            "_dom_classes": [],
            "description": "",
            "_model_name": "HTMLModel",
            "placeholder": "​",
            "_view_module": "@jupyter-widgets/controls",
            "_model_module_version": "1.5.0",
            "value": " 443/443 [00:28&lt;00:00, 15.7B/s]",
            "_view_count": null,
            "_view_module_version": "1.5.0",
            "description_tooltip": null,
            "_model_module": "@jupyter-widgets/controls",
            "layout": "IPY_MODEL_a5050e1d24c440bbb66aec87cf7bbce3"
          }
        },
        "6df5e7238a924609902dcd1bfbba5fcc": {
          "model_module": "@jupyter-widgets/controls",
          "model_name": "ProgressStyleModel",
          "state": {
            "_view_name": "StyleView",
            "_model_name": "ProgressStyleModel",
            "description_width": "initial",
            "_view_module": "@jupyter-widgets/base",
            "_model_module_version": "1.5.0",
            "_view_count": null,
            "_view_module_version": "1.2.0",
            "bar_color": null,
            "_model_module": "@jupyter-widgets/controls"
          }
        },
        "2ee4030aba9446caaeede0f5ca8b75b6": {
          "model_module": "@jupyter-widgets/base",
          "model_name": "LayoutModel",
          "state": {
            "_view_name": "LayoutView",
            "grid_template_rows": null,
            "right": null,
            "justify_content": null,
            "_view_module": "@jupyter-widgets/base",
            "overflow": null,
            "_model_module_version": "1.2.0",
            "_view_count": null,
            "flex_flow": null,
            "width": null,
            "min_width": null,
            "border": null,
            "align_items": null,
            "bottom": null,
            "_model_module": "@jupyter-widgets/base",
            "top": null,
            "grid_column": null,
            "overflow_y": null,
            "overflow_x": null,
            "grid_auto_flow": null,
            "grid_area": null,
            "grid_template_columns": null,
            "flex": null,
            "_model_name": "LayoutModel",
            "justify_items": null,
            "grid_row": null,
            "max_height": null,
            "align_content": null,
            "visibility": null,
            "align_self": null,
            "height": null,
            "min_height": null,
            "padding": null,
            "grid_auto_rows": null,
            "grid_gap": null,
            "max_width": null,
            "order": null,
            "_view_module_version": "1.2.0",
            "grid_template_areas": null,
            "object_position": null,
            "object_fit": null,
            "grid_auto_columns": null,
            "margin": null,
            "display": null,
            "left": null
          }
        },
        "d5da7375ace0417c8953266ae969a702": {
          "model_module": "@jupyter-widgets/controls",
          "model_name": "DescriptionStyleModel",
          "state": {
            "_view_name": "StyleView",
            "_model_name": "DescriptionStyleModel",
            "description_width": "",
            "_view_module": "@jupyter-widgets/base",
            "_model_module_version": "1.5.0",
            "_view_count": null,
            "_view_module_version": "1.2.0",
            "_model_module": "@jupyter-widgets/controls"
          }
        },
        "a5050e1d24c440bbb66aec87cf7bbce3": {
          "model_module": "@jupyter-widgets/base",
          "model_name": "LayoutModel",
          "state": {
            "_view_name": "LayoutView",
            "grid_template_rows": null,
            "right": null,
            "justify_content": null,
            "_view_module": "@jupyter-widgets/base",
            "overflow": null,
            "_model_module_version": "1.2.0",
            "_view_count": null,
            "flex_flow": null,
            "width": null,
            "min_width": null,
            "border": null,
            "align_items": null,
            "bottom": null,
            "_model_module": "@jupyter-widgets/base",
            "top": null,
            "grid_column": null,
            "overflow_y": null,
            "overflow_x": null,
            "grid_auto_flow": null,
            "grid_area": null,
            "grid_template_columns": null,
            "flex": null,
            "_model_name": "LayoutModel",
            "justify_items": null,
            "grid_row": null,
            "max_height": null,
            "align_content": null,
            "visibility": null,
            "align_self": null,
            "height": null,
            "min_height": null,
            "padding": null,
            "grid_auto_rows": null,
            "grid_gap": null,
            "max_width": null,
            "order": null,
            "_view_module_version": "1.2.0",
            "grid_template_areas": null,
            "object_position": null,
            "object_fit": null,
            "grid_auto_columns": null,
            "margin": null,
            "display": null,
            "left": null
          }
        },
        "92d744ca3e1f462fa0a017e83a21ea98": {
          "model_module": "@jupyter-widgets/controls",
          "model_name": "HBoxModel",
          "state": {
            "_view_name": "HBoxView",
            "_dom_classes": [],
            "_model_name": "HBoxModel",
            "_view_module": "@jupyter-widgets/controls",
            "_model_module_version": "1.5.0",
            "_view_count": null,
            "_view_module_version": "1.5.0",
            "box_style": "",
            "layout": "IPY_MODEL_13ee2f7b281d4c92950ac4b151e0cc2e",
            "_model_module": "@jupyter-widgets/controls",
            "children": [
              "IPY_MODEL_1b904ed6cdce42bd817c194afd20df32",
              "IPY_MODEL_03b1ab2cc8ba4dc48c7c8ad3c013b413"
            ]
          }
        },
        "13ee2f7b281d4c92950ac4b151e0cc2e": {
          "model_module": "@jupyter-widgets/base",
          "model_name": "LayoutModel",
          "state": {
            "_view_name": "LayoutView",
            "grid_template_rows": null,
            "right": null,
            "justify_content": null,
            "_view_module": "@jupyter-widgets/base",
            "overflow": null,
            "_model_module_version": "1.2.0",
            "_view_count": null,
            "flex_flow": null,
            "width": null,
            "min_width": null,
            "border": null,
            "align_items": null,
            "bottom": null,
            "_model_module": "@jupyter-widgets/base",
            "top": null,
            "grid_column": null,
            "overflow_y": null,
            "overflow_x": null,
            "grid_auto_flow": null,
            "grid_area": null,
            "grid_template_columns": null,
            "flex": null,
            "_model_name": "LayoutModel",
            "justify_items": null,
            "grid_row": null,
            "max_height": null,
            "align_content": null,
            "visibility": null,
            "align_self": null,
            "height": null,
            "min_height": null,
            "padding": null,
            "grid_auto_rows": null,
            "grid_gap": null,
            "max_width": null,
            "order": null,
            "_view_module_version": "1.2.0",
            "grid_template_areas": null,
            "object_position": null,
            "object_fit": null,
            "grid_auto_columns": null,
            "margin": null,
            "display": null,
            "left": null
          }
        },
        "1b904ed6cdce42bd817c194afd20df32": {
          "model_module": "@jupyter-widgets/controls",
          "model_name": "FloatProgressModel",
          "state": {
            "_view_name": "ProgressView",
            "style": "IPY_MODEL_24b9b7e572ad4dd7a4c7eefd456feef6",
            "_dom_classes": [],
            "description": "Downloading: 100%",
            "_model_name": "FloatProgressModel",
            "bar_style": "success",
            "max": 1341090760,
            "_view_module": "@jupyter-widgets/controls",
            "_model_module_version": "1.5.0",
            "value": 1341090760,
            "_view_count": null,
            "_view_module_version": "1.5.0",
            "orientation": "horizontal",
            "min": 0,
            "description_tooltip": null,
            "_model_module": "@jupyter-widgets/controls",
            "layout": "IPY_MODEL_9cdf2f0bef1341f9b9e0ed6edf2260e9"
          }
        },
        "03b1ab2cc8ba4dc48c7c8ad3c013b413": {
          "model_module": "@jupyter-widgets/controls",
          "model_name": "HTMLModel",
          "state": {
            "_view_name": "HTMLView",
            "style": "IPY_MODEL_0d7ee9fc403c4732b8e60cc9cddf738d",
            "_dom_classes": [],
            "description": "",
            "_model_name": "HTMLModel",
            "placeholder": "​",
            "_view_module": "@jupyter-widgets/controls",
            "_model_module_version": "1.5.0",
            "value": " 1.34G/1.34G [00:27&lt;00:00, 49.0MB/s]",
            "_view_count": null,
            "_view_module_version": "1.5.0",
            "description_tooltip": null,
            "_model_module": "@jupyter-widgets/controls",
            "layout": "IPY_MODEL_a9a1b38cfa994d1eaf47ec7646172937"
          }
        },
        "24b9b7e572ad4dd7a4c7eefd456feef6": {
          "model_module": "@jupyter-widgets/controls",
          "model_name": "ProgressStyleModel",
          "state": {
            "_view_name": "StyleView",
            "_model_name": "ProgressStyleModel",
            "description_width": "initial",
            "_view_module": "@jupyter-widgets/base",
            "_model_module_version": "1.5.0",
            "_view_count": null,
            "_view_module_version": "1.2.0",
            "bar_color": null,
            "_model_module": "@jupyter-widgets/controls"
          }
        },
        "9cdf2f0bef1341f9b9e0ed6edf2260e9": {
          "model_module": "@jupyter-widgets/base",
          "model_name": "LayoutModel",
          "state": {
            "_view_name": "LayoutView",
            "grid_template_rows": null,
            "right": null,
            "justify_content": null,
            "_view_module": "@jupyter-widgets/base",
            "overflow": null,
            "_model_module_version": "1.2.0",
            "_view_count": null,
            "flex_flow": null,
            "width": null,
            "min_width": null,
            "border": null,
            "align_items": null,
            "bottom": null,
            "_model_module": "@jupyter-widgets/base",
            "top": null,
            "grid_column": null,
            "overflow_y": null,
            "overflow_x": null,
            "grid_auto_flow": null,
            "grid_area": null,
            "grid_template_columns": null,
            "flex": null,
            "_model_name": "LayoutModel",
            "justify_items": null,
            "grid_row": null,
            "max_height": null,
            "align_content": null,
            "visibility": null,
            "align_self": null,
            "height": null,
            "min_height": null,
            "padding": null,
            "grid_auto_rows": null,
            "grid_gap": null,
            "max_width": null,
            "order": null,
            "_view_module_version": "1.2.0",
            "grid_template_areas": null,
            "object_position": null,
            "object_fit": null,
            "grid_auto_columns": null,
            "margin": null,
            "display": null,
            "left": null
          }
        },
        "0d7ee9fc403c4732b8e60cc9cddf738d": {
          "model_module": "@jupyter-widgets/controls",
          "model_name": "DescriptionStyleModel",
          "state": {
            "_view_name": "StyleView",
            "_model_name": "DescriptionStyleModel",
            "description_width": "",
            "_view_module": "@jupyter-widgets/base",
            "_model_module_version": "1.5.0",
            "_view_count": null,
            "_view_module_version": "1.2.0",
            "_model_module": "@jupyter-widgets/controls"
          }
        },
        "a9a1b38cfa994d1eaf47ec7646172937": {
          "model_module": "@jupyter-widgets/base",
          "model_name": "LayoutModel",
          "state": {
            "_view_name": "LayoutView",
            "grid_template_rows": null,
            "right": null,
            "justify_content": null,
            "_view_module": "@jupyter-widgets/base",
            "overflow": null,
            "_model_module_version": "1.2.0",
            "_view_count": null,
            "flex_flow": null,
            "width": null,
            "min_width": null,
            "border": null,
            "align_items": null,
            "bottom": null,
            "_model_module": "@jupyter-widgets/base",
            "top": null,
            "grid_column": null,
            "overflow_y": null,
            "overflow_x": null,
            "grid_auto_flow": null,
            "grid_area": null,
            "grid_template_columns": null,
            "flex": null,
            "_model_name": "LayoutModel",
            "justify_items": null,
            "grid_row": null,
            "max_height": null,
            "align_content": null,
            "visibility": null,
            "align_self": null,
            "height": null,
            "min_height": null,
            "padding": null,
            "grid_auto_rows": null,
            "grid_gap": null,
            "max_width": null,
            "order": null,
            "_view_module_version": "1.2.0",
            "grid_template_areas": null,
            "object_position": null,
            "object_fit": null,
            "grid_auto_columns": null,
            "margin": null,
            "display": null,
            "left": null
          }
        }
      }
    }
  },
  "cells": [
    {
      "cell_type": "code",
      "metadata": {
        "id": "Nb66iLYlG1cq",
        "colab": {
          "base_uri": "https://localhost:8080/",
          "height": 603
        },
        "outputId": "02690a44-5098-47e5-d2bc-83114824c594"
      },
      "source": [
        "! pip install transformers\n",
        "\n",
        "%tensorflow_version 2.x\n",
        "import tensorflow as tf\n",
        "print(tf.__version__)"
      ],
      "execution_count": null,
      "outputs": [
        {
          "output_type": "stream",
          "text": [
            "Collecting transformers\n",
            "\u001b[?25l  Downloading https://files.pythonhosted.org/packages/22/97/7db72a0beef1825f82188a4b923e62a146271ac2ced7928baa4d47ef2467/transformers-2.9.1-py3-none-any.whl (641kB)\n",
            "\r\u001b[K     |▌                               | 10kB 15.2MB/s eta 0:00:01\r\u001b[K     |█                               | 20kB 3.2MB/s eta 0:00:01\r\u001b[K     |█▌                              | 30kB 3.8MB/s eta 0:00:01\r\u001b[K     |██                              | 40kB 4.2MB/s eta 0:00:01\r\u001b[K     |██▌                             | 51kB 3.7MB/s eta 0:00:01\r\u001b[K     |███                             | 61kB 4.0MB/s eta 0:00:01\r\u001b[K     |███▋                            | 71kB 4.5MB/s eta 0:00:01\r\u001b[K     |████                            | 81kB 4.9MB/s eta 0:00:01\r\u001b[K     |████▋                           | 92kB 5.2MB/s eta 0:00:01\r\u001b[K     |█████                           | 102kB 5.0MB/s eta 0:00:01\r\u001b[K     |█████▋                          | 112kB 5.0MB/s eta 0:00:01\r\u001b[K     |██████▏                         | 122kB 5.0MB/s eta 0:00:01\r\u001b[K     |██████▋                         | 133kB 5.0MB/s eta 0:00:01\r\u001b[K     |███████▏                        | 143kB 5.0MB/s eta 0:00:01\r\u001b[K     |███████▋                        | 153kB 5.0MB/s eta 0:00:01\r\u001b[K     |████████▏                       | 163kB 5.0MB/s eta 0:00:01\r\u001b[K     |████████▊                       | 174kB 5.0MB/s eta 0:00:01\r\u001b[K     |█████████▏                      | 184kB 5.0MB/s eta 0:00:01\r\u001b[K     |█████████▊                      | 194kB 5.0MB/s eta 0:00:01\r\u001b[K     |██████████▏                     | 204kB 5.0MB/s eta 0:00:01\r\u001b[K     |██████████▊                     | 215kB 5.0MB/s eta 0:00:01\r\u001b[K     |███████████▎                    | 225kB 5.0MB/s eta 0:00:01\r\u001b[K     |███████████▊                    | 235kB 5.0MB/s eta 0:00:01\r\u001b[K     |████████████▎                   | 245kB 5.0MB/s eta 0:00:01\r\u001b[K     |████████████▊                   | 256kB 5.0MB/s eta 0:00:01\r\u001b[K     |█████████████▎                  | 266kB 5.0MB/s eta 0:00:01\r\u001b[K     |█████████████▉                  | 276kB 5.0MB/s eta 0:00:01\r\u001b[K     |██████████████▎                 | 286kB 5.0MB/s eta 0:00:01\r\u001b[K     |██████████████▉                 | 296kB 5.0MB/s eta 0:00:01\r\u001b[K     |███████████████▎                | 307kB 5.0MB/s eta 0:00:01\r\u001b[K     |███████████████▉                | 317kB 5.0MB/s eta 0:00:01\r\u001b[K     |████████████████▍               | 327kB 5.0MB/s eta 0:00:01\r\u001b[K     |████████████████▉               | 337kB 5.0MB/s eta 0:00:01\r\u001b[K     |█████████████████▍              | 348kB 5.0MB/s eta 0:00:01\r\u001b[K     |█████████████████▉              | 358kB 5.0MB/s eta 0:00:01\r\u001b[K     |██████████████████▍             | 368kB 5.0MB/s eta 0:00:01\r\u001b[K     |███████████████████             | 378kB 5.0MB/s eta 0:00:01\r\u001b[K     |███████████████████▍            | 389kB 5.0MB/s eta 0:00:01\r\u001b[K     |████████████████████            | 399kB 5.0MB/s eta 0:00:01\r\u001b[K     |████████████████████▍           | 409kB 5.0MB/s eta 0:00:01\r\u001b[K     |█████████████████████           | 419kB 5.0MB/s eta 0:00:01\r\u001b[K     |█████████████████████▍          | 430kB 5.0MB/s eta 0:00:01\r\u001b[K     |██████████████████████          | 440kB 5.0MB/s eta 0:00:01\r\u001b[K     |██████████████████████▌         | 450kB 5.0MB/s eta 0:00:01\r\u001b[K     |███████████████████████         | 460kB 5.0MB/s eta 0:00:01\r\u001b[K     |███████████████████████▌        | 471kB 5.0MB/s eta 0:00:01\r\u001b[K     |████████████████████████        | 481kB 5.0MB/s eta 0:00:01\r\u001b[K     |████████████████████████▌       | 491kB 5.0MB/s eta 0:00:01\r\u001b[K     |█████████████████████████       | 501kB 5.0MB/s eta 0:00:01\r\u001b[K     |█████████████████████████▌      | 512kB 5.0MB/s eta 0:00:01\r\u001b[K     |██████████████████████████      | 522kB 5.0MB/s eta 0:00:01\r\u001b[K     |██████████████████████████▌     | 532kB 5.0MB/s eta 0:00:01\r\u001b[K     |███████████████████████████     | 542kB 5.0MB/s eta 0:00:01\r\u001b[K     |███████████████████████████▋    | 552kB 5.0MB/s eta 0:00:01\r\u001b[K     |████████████████████████████    | 563kB 5.0MB/s eta 0:00:01\r\u001b[K     |████████████████████████████▋   | 573kB 5.0MB/s eta 0:00:01\r\u001b[K     |█████████████████████████████   | 583kB 5.0MB/s eta 0:00:01\r\u001b[K     |█████████████████████████████▋  | 593kB 5.0MB/s eta 0:00:01\r\u001b[K     |██████████████████████████████▏ | 604kB 5.0MB/s eta 0:00:01\r\u001b[K     |██████████████████████████████▋ | 614kB 5.0MB/s eta 0:00:01\r\u001b[K     |███████████████████████████████▏| 624kB 5.0MB/s eta 0:00:01\r\u001b[K     |███████████████████████████████▋| 634kB 5.0MB/s eta 0:00:01\r\u001b[K     |████████████████████████████████| 645kB 5.0MB/s \n",
            "\u001b[?25hRequirement already satisfied: requests in /usr/local/lib/python3.6/dist-packages (from transformers) (2.23.0)\n",
            "Collecting sentencepiece\n",
            "\u001b[?25l  Downloading https://files.pythonhosted.org/packages/3b/88/49e772d686088e1278766ad68a463513642a2a877487decbd691dec02955/sentencepiece-0.1.90-cp36-cp36m-manylinux1_x86_64.whl (1.1MB)\n",
            "\u001b[K     |████████████████████████████████| 1.1MB 13.5MB/s \n",
            "\u001b[?25hRequirement already satisfied: tqdm>=4.27 in /usr/local/lib/python3.6/dist-packages (from transformers) (4.41.1)\n",
            "Requirement already satisfied: numpy in /usr/local/lib/python3.6/dist-packages (from transformers) (1.18.4)\n",
            "Collecting sacremoses\n",
            "\u001b[?25l  Downloading https://files.pythonhosted.org/packages/7d/34/09d19aff26edcc8eb2a01bed8e98f13a1537005d31e95233fd48216eed10/sacremoses-0.0.43.tar.gz (883kB)\n",
            "\u001b[K     |████████████████████████████████| 890kB 38.9MB/s \n",
            "\u001b[?25hRequirement already satisfied: dataclasses; python_version < \"3.7\" in /usr/local/lib/python3.6/dist-packages (from transformers) (0.7)\n",
            "Requirement already satisfied: filelock in /usr/local/lib/python3.6/dist-packages (from transformers) (3.0.12)\n",
            "Requirement already satisfied: regex!=2019.12.17 in /usr/local/lib/python3.6/dist-packages (from transformers) (2019.12.20)\n",
            "Collecting tokenizers==0.7.0\n",
            "\u001b[?25l  Downloading https://files.pythonhosted.org/packages/14/e5/a26eb4716523808bb0a799fcfdceb6ebf77a18169d9591b2f46a9adb87d9/tokenizers-0.7.0-cp36-cp36m-manylinux1_x86_64.whl (3.8MB)\n",
            "\u001b[K     |████████████████████████████████| 3.8MB 17.9MB/s \n",
            "\u001b[?25hRequirement already satisfied: urllib3!=1.25.0,!=1.25.1,<1.26,>=1.21.1 in /usr/local/lib/python3.6/dist-packages (from requests->transformers) (1.24.3)\n",
            "Requirement already satisfied: chardet<4,>=3.0.2 in /usr/local/lib/python3.6/dist-packages (from requests->transformers) (3.0.4)\n",
            "Requirement already satisfied: idna<3,>=2.5 in /usr/local/lib/python3.6/dist-packages (from requests->transformers) (2.9)\n",
            "Requirement already satisfied: certifi>=2017.4.17 in /usr/local/lib/python3.6/dist-packages (from requests->transformers) (2020.4.5.1)\n",
            "Requirement already satisfied: six in /usr/local/lib/python3.6/dist-packages (from sacremoses->transformers) (1.12.0)\n",
            "Requirement already satisfied: click in /usr/local/lib/python3.6/dist-packages (from sacremoses->transformers) (7.1.2)\n",
            "Requirement already satisfied: joblib in /usr/local/lib/python3.6/dist-packages (from sacremoses->transformers) (0.14.1)\n",
            "Building wheels for collected packages: sacremoses\n",
            "  Building wheel for sacremoses (setup.py) ... \u001b[?25l\u001b[?25hdone\n",
            "  Created wheel for sacremoses: filename=sacremoses-0.0.43-cp36-none-any.whl size=893260 sha256=f6c3dbe4904d7527ee015ff49a856a50b3b0a773c0028fb3f394cf28c37faf29\n",
            "  Stored in directory: /root/.cache/pip/wheels/29/3c/fd/7ce5c3f0666dab31a50123635e6fb5e19ceb42ce38d4e58f45\n",
            "Successfully built sacremoses\n",
            "Installing collected packages: sentencepiece, sacremoses, tokenizers, transformers\n",
            "Successfully installed sacremoses-0.0.43 sentencepiece-0.1.90 tokenizers-0.7.0 transformers-2.9.1\n",
            "2.2.0\n"
          ],
          "name": "stdout"
        }
      ]
    },
    {
      "cell_type": "markdown",
      "metadata": {
        "id": "1B6Z_ALRIQfx"
      },
      "source": [
        "## Fine-tuning BERT\n",
        "- BERT Pre-Training phase: Masked Language Model(MLM) and Next Sentence Prediction(NSP) \n",
        "\n",
        "- Then, finetune all of the weights in the pretrained model for a task of choice.\n",
        "\n",
        "- Source: https://arxiv.org/pdf/1810.04805.pdf\n",
        "\n",
        "<img src=\"https://i.imgur.com/fKNAhKH.png\" alt=\" \" width=\"75%\" height=\"75%\">\n",
        "\n"
      ]
    },
    {
      "cell_type": "markdown",
      "metadata": {
        "id": "EgcMAVSbUz-_"
      },
      "source": [
        "##  QuestionAnswering Model (inbuilt)\n",
        "- Pretraining(NSP, MLM) + SQuAD Dataset trained model\n",
        "- Extractive Model\n",
        "- SQuAD: https://rajpurkar.github.io/SQuAD-explorer/\n",
        "\n",
        "- \"SQuAD2.0 combines the 100,000 questions in SQuAD1.1 with over 50,000 unanswerable questions written adversarially by crowdworkers to look similar to answerable ones. To do well on SQuAD2.0, systems must not only answer questions when possible, but also determine when no answer is supported by the paragraph and abstain from answering.\"\n",
        "\n"
      ]
    },
    {
      "cell_type": "code",
      "metadata": {
        "id": "B_7XCmZLILU_",
        "colab": {
          "base_uri": "https://localhost:8080/",
          "height": 182,
          "referenced_widgets": [
            "52d8c2b6e2064c009355f8ec1fc961bd",
            "8a2b609241e94683b3913aab41574d5c",
            "64e2cbb0b9e643e58c314850d3f7de56",
            "95cb695f218d40a687eaa04a7d3021ac",
            "218101df50ea467fae16be10178e0cd6",
            "70a94be255504575b7efefad7b2c7435",
            "c857a0db451e4d68a39a9328717966db",
            "f1334c6b84994bc2a00d4d14ccc6b1f8",
            "17084bdb861949018ebb3e7d601df1c5",
            "a49d3746b9de4dc1b3ec5e2b20e4cede",
            "05d262bbd3af4786938a176ba0e29822",
            "de0fae2ad9e440588c8054524d0d7b9d",
            "6df5e7238a924609902dcd1bfbba5fcc",
            "2ee4030aba9446caaeede0f5ca8b75b6",
            "d5da7375ace0417c8953266ae969a702",
            "a5050e1d24c440bbb66aec87cf7bbce3",
            "92d744ca3e1f462fa0a017e83a21ea98",
            "13ee2f7b281d4c92950ac4b151e0cc2e",
            "1b904ed6cdce42bd817c194afd20df32",
            "03b1ab2cc8ba4dc48c7c8ad3c013b413",
            "24b9b7e572ad4dd7a4c7eefd456feef6",
            "9cdf2f0bef1341f9b9e0ed6edf2260e9",
            "0d7ee9fc403c4732b8e60cc9cddf738d",
            "a9a1b38cfa994d1eaf47ec7646172937"
          ]
        },
        "outputId": "9bd413eb-2eee-4e45-c5c3-59b12c37b67c"
      },
      "source": [
        "# Using HuggingFace's QuestionAnsweringModel (inbuilt)\n",
        "\n",
        "import tensorflow as tf\n",
        "\n",
        "# Refer: https://huggingface.co/transformers/model_doc/bert.html\n",
        "\n",
        "from transformers import BertTokenizer, TFBertForQuestionAnswering \n",
        "\n",
        "modelName = 'bert-large-uncased-whole-word-masking-finetuned-squad' # https://huggingface.co/transformers/pretrained_models.html\n",
        " \n",
        "tokenizer = BertTokenizer.from_pretrained(modelName)\n",
        "model = TFBertForQuestionAnswering.from_pretrained(modelName)\n",
        "\n",
        "print(model)"
      ],
      "execution_count": null,
      "outputs": [
        {
          "output_type": "display_data",
          "data": {
            "application/vnd.jupyter.widget-view+json": {
              "model_id": "52d8c2b6e2064c009355f8ec1fc961bd",
              "version_minor": 0,
              "version_major": 2
            },
            "text/plain": [
              "HBox(children=(FloatProgress(value=0.0, description='Downloading', max=231508.0, style=ProgressStyle(descripti…"
            ]
          },
          "metadata": {
            "tags": []
          }
        },
        {
          "output_type": "stream",
          "text": [
            "\n"
          ],
          "name": "stdout"
        },
        {
          "output_type": "display_data",
          "data": {
            "application/vnd.jupyter.widget-view+json": {
              "model_id": "17084bdb861949018ebb3e7d601df1c5",
              "version_minor": 0,
              "version_major": 2
            },
            "text/plain": [
              "HBox(children=(FloatProgress(value=0.0, description='Downloading', max=443.0, style=ProgressStyle(description_…"
            ]
          },
          "metadata": {
            "tags": []
          }
        },
        {
          "output_type": "stream",
          "text": [
            "\n"
          ],
          "name": "stdout"
        },
        {
          "output_type": "display_data",
          "data": {
            "application/vnd.jupyter.widget-view+json": {
              "model_id": "92d744ca3e1f462fa0a017e83a21ea98",
              "version_minor": 0,
              "version_major": 2
            },
            "text/plain": [
              "HBox(children=(FloatProgress(value=0.0, description='Downloading', max=1341090760.0, style=ProgressStyle(descr…"
            ]
          },
          "metadata": {
            "tags": []
          }
        },
        {
          "output_type": "stream",
          "text": [
            "\n",
            "<transformers.modeling_tf_bert.TFBertForQuestionAnswering object at 0x7f12d0665080>\n"
          ],
          "name": "stdout"
        }
      ]
    },
    {
      "cell_type": "code",
      "metadata": {
        "id": "OOLvZ1um-nLV",
        "colab": {
          "base_uri": "https://localhost:8080/",
          "height": 71
        },
        "outputId": "d5e60651-821f-41df-f682-694f104f122e"
      },
      "source": [
        "# Text+Q&A from SQuAD Test data: https://rajpurkar.github.io/SQuAD-explorer/explore/v2.0/dev/Amazon_rainforest.html?model=nlnet%20(single%20model)%20(Microsoft%20Research%20Asia)&version=v2.0\n",
        "text = r\"\"\"The Amazon rainforest (Portuguese: Floresta Amazônica or Amazônia; Spanish: Selva Amazónica, Amazonía or usually Amazonia; French: Forêt amazonienne; Dutch: Amazoneregenwoud), also known in English as Amazonia or the Amazon Jungle, is a moist broadleaf forest that covers most of the Amazon basin of South America. This basin encompasses 7,000,000 square kilometres (2,700,000 sq mi), of which 5,500,000 square kilometres (2,100,000 sq mi) are covered by the rainforest. This region includes territory belonging to nine nations. The majority of the forest is contained within Brazil, with 60% of the rainforest, followed by Peru with 13%, Colombia with 10%, and with minor amounts in Venezuela, Ecuador, Bolivia, Guyana, Suriname and French Guiana. States or departments in four nations contain \"Amazonas\" in their names. The Amazon represents over half of the planet's remaining rainforests, and comprises the largest and most biodiverse tract of tropical rainforest in the world, with an estimated 390 billion individual trees divided into 16,000 species.\"\"\"\n",
        "question =r\"\"\"What percentage does the Amazon represents in rainforests on the planet?\"\"\"\n",
        "\n",
        "#question = r\"\"\"How many nations contain \"Amazonas\" in their names?\"\"\"\n",
        "\n",
        "\n",
        "#input_text = \"[CLS] \" + question + \" [SEP] \" + text + \" [SEP]\"\n",
        "input_text =  question + \" [SEP] \" + text \n",
        "input_ids = tokenizer.encode(input_text)\n",
        "\n",
        "print(len(input_ids))\n",
        "print(tokenizer.decode(input_ids))\n",
        "\n",
        "input = tf.constant(input_ids)[None, :]  # Batch size 1 \n"
      ],
      "execution_count": null,
      "outputs": [
        {
          "output_type": "stream",
          "text": [
            "250\n",
            "[CLS] what percentage does the amazon represents in rainforests on the planet? [SEP] the amazon rainforest ( portuguese : floresta amazonica or amazonia ; spanish : selva amazonica, amazonia or usually amazonia ; french : foret amazonienne ; dutch : amazoneregenwoud ), also known in english as amazonia or the amazon jungle, is a moist broadleaf forest that covers most of the amazon basin of south america. this basin encompasses 7, 000, 000 square kilometres ( 2, 700, 000 sq mi ), of which 5, 500, 000 square kilometres ( 2, 100, 000 sq mi ) are covered by the rainforest. this region includes territory belonging to nine nations. the majority of the forest is contained within brazil, with 60 % of the rainforest, followed by peru with 13 %, colombia with 10 %, and with minor amounts in venezuela, ecuador, bolivia, guyana, suriname and french guiana. states or departments in four nations contain \" amazonas \" in their names. the amazon represents over half of the planet's remaining rainforests, and comprises the largest and most biodiverse tract of tropical rainforest in the world, with an estimated 390 billion individual trees divided into 16, 000 species. [SEP]\n"
          ],
          "name": "stdout"
        }
      ]
    },
    {
      "cell_type": "code",
      "metadata": {
        "id": "aH5rLuHNeI7T",
        "colab": {
          "base_uri": "https://localhost:8080/",
          "height": 54
        },
        "outputId": "e45c4288-527e-44d6-e65b-10574b8515d0"
      },
      "source": [
        "# Source: Modified PyTorch code from https://www.kaggle.com/c/tensorflow2-question-answering/discussion/123434\n",
        "\n",
        "#[SEP] =  102 (token_id)\n",
        "# token_type_ids has 0 corresponding to the qeustion part of the input_text and 1 corresponding to the \n",
        "# text/part \n",
        "\n",
        "token_type_ids = [0 if i <= input_ids.index(102) else 1 for i in range(len(input_ids))]\n",
        "\n",
        "print(token_type_ids)\n"
      ],
      "execution_count": null,
      "outputs": [
        {
          "output_type": "stream",
          "text": [
            "[0, 0, 0, 0, 0, 0, 0, 0, 0, 0, 0, 0, 0, 0, 0, 1, 1, 1, 1, 1, 1, 1, 1, 1, 1, 1, 1, 1, 1, 1, 1, 1, 1, 1, 1, 1, 1, 1, 1, 1, 1, 1, 1, 1, 1, 1, 1, 1, 1, 1, 1, 1, 1, 1, 1, 1, 1, 1, 1, 1, 1, 1, 1, 1, 1, 1, 1, 1, 1, 1, 1, 1, 1, 1, 1, 1, 1, 1, 1, 1, 1, 1, 1, 1, 1, 1, 1, 1, 1, 1, 1, 1, 1, 1, 1, 1, 1, 1, 1, 1, 1, 1, 1, 1, 1, 1, 1, 1, 1, 1, 1, 1, 1, 1, 1, 1, 1, 1, 1, 1, 1, 1, 1, 1, 1, 1, 1, 1, 1, 1, 1, 1, 1, 1, 1, 1, 1, 1, 1, 1, 1, 1, 1, 1, 1, 1, 1, 1, 1, 1, 1, 1, 1, 1, 1, 1, 1, 1, 1, 1, 1, 1, 1, 1, 1, 1, 1, 1, 1, 1, 1, 1, 1, 1, 1, 1, 1, 1, 1, 1, 1, 1, 1, 1, 1, 1, 1, 1, 1, 1, 1, 1, 1, 1, 1, 1, 1, 1, 1, 1, 1, 1, 1, 1, 1, 1, 1, 1, 1, 1, 1, 1, 1, 1, 1, 1, 1, 1, 1, 1, 1, 1, 1, 1, 1, 1, 1, 1, 1, 1, 1, 1, 1, 1, 1, 1, 1, 1, 1, 1, 1, 1, 1, 1, 1, 1, 1, 1, 1, 1]\n"
          ],
          "name": "stdout"
        }
      ]
    },
    {
      "cell_type": "code",
      "metadata": {
        "id": "hSS47jk0dcJ4",
        "colab": {
          "base_uri": "https://localhost:8080/",
          "height": 103
        },
        "outputId": "6abcd69b-ea30-404a-d409-d64297958109"
      },
      "source": [
        "answer=model(input, token_type_ids = tf.convert_to_tensor([token_type_ids]))\n",
        "\n",
        "print(type(answer))\n",
        "print(len(answer))\n",
        "\n",
        "# https://huggingface.co/transformers/model_doc/distilbert.html#tfdistilbertforquestionanswering\n",
        "\n",
        "startScores, endScores = answer\n",
        "print(startScores.shape)\n",
        "print(endScores.shape)\n",
        "print(type(startScores))\n",
        "\n",
        "\n"
      ],
      "execution_count": null,
      "outputs": [
        {
          "output_type": "stream",
          "text": [
            "<class 'tuple'>\n",
            "2\n",
            "(1, 250)\n",
            "(1, 250)\n",
            "<class 'tensorflow.python.framework.ops.EagerTensor'>\n"
          ],
          "name": "stdout"
        }
      ]
    },
    {
      "cell_type": "code",
      "metadata": {
        "id": "3Gn7z6GbqLTQ",
        "colab": {
          "base_uri": "https://localhost:8080/",
          "height": 54
        },
        "outputId": "a2fea863-c756-4dd7-8cea-cdbb89ec78b4"
      },
      "source": [
        "input_tokens = tokenizer.convert_ids_to_tokens(input_ids)\n",
        "\n",
        "print(input_tokens)"
      ],
      "execution_count": null,
      "outputs": [
        {
          "output_type": "stream",
          "text": [
            "['[CLS]', 'what', 'percentage', 'does', 'the', 'amazon', 'represents', 'in', 'rainforest', '##s', 'on', 'the', 'planet', '?', '[SEP]', 'the', 'amazon', 'rainforest', '(', 'portuguese', ':', 'flores', '##ta', 'amazon', '##ica', 'or', 'amazon', '##ia', ';', 'spanish', ':', 'se', '##lva', 'amazon', '##ica', ',', 'amazon', '##ia', 'or', 'usually', 'amazon', '##ia', ';', 'french', ':', 'fore', '##t', 'amazon', '##ien', '##ne', ';', 'dutch', ':', 'amazon', '##ere', '##gen', '##wo', '##ud', ')', ',', 'also', 'known', 'in', 'english', 'as', 'amazon', '##ia', 'or', 'the', 'amazon', 'jungle', ',', 'is', 'a', 'moist', 'broad', '##leaf', 'forest', 'that', 'covers', 'most', 'of', 'the', 'amazon', 'basin', 'of', 'south', 'america', '.', 'this', 'basin', 'encompasses', '7', ',', '000', ',', '000', 'square', 'kilometres', '(', '2', ',', '700', ',', '000', 'sq', 'mi', ')', ',', 'of', 'which', '5', ',', '500', ',', '000', 'square', 'kilometres', '(', '2', ',', '100', ',', '000', 'sq', 'mi', ')', 'are', 'covered', 'by', 'the', 'rainforest', '.', 'this', 'region', 'includes', 'territory', 'belonging', 'to', 'nine', 'nations', '.', 'the', 'majority', 'of', 'the', 'forest', 'is', 'contained', 'within', 'brazil', ',', 'with', '60', '%', 'of', 'the', 'rainforest', ',', 'followed', 'by', 'peru', 'with', '13', '%', ',', 'colombia', 'with', '10', '%', ',', 'and', 'with', 'minor', 'amounts', 'in', 'venezuela', ',', 'ecuador', ',', 'bolivia', ',', 'guyana', ',', 'suriname', 'and', 'french', 'guiana', '.', 'states', 'or', 'departments', 'in', 'four', 'nations', 'contain', '\"', 'amazon', '##as', '\"', 'in', 'their', 'names', '.', 'the', 'amazon', 'represents', 'over', 'half', 'of', 'the', 'planet', \"'\", 's', 'remaining', 'rainforest', '##s', ',', 'and', 'comprises', 'the', 'largest', 'and', 'most', 'bio', '##di', '##verse', 'tract', 'of', 'tropical', 'rainforest', 'in', 'the', 'world', ',', 'with', 'an', 'estimated', '390', 'billion', 'individual', 'trees', 'divided', 'into', '16', ',', '000', 'species', '.', '[SEP]']\n"
          ],
          "name": "stdout"
        }
      ]
    },
    {
      "cell_type": "code",
      "metadata": {
        "id": "bIyiOgk-sL1v",
        "colab": {
          "base_uri": "https://localhost:8080/",
          "height": 754
        },
        "outputId": "ca227171-1516-42a4-b147-ed2dfa1da592"
      },
      "source": [
        "print(startScores)\n"
      ],
      "execution_count": null,
      "outputs": [
        {
          "output_type": "stream",
          "text": [
            "tf.Tensor(\n",
            "[[-6.047485   -4.656026   -7.571985   -7.812991   -7.006605   -7.8947506\n",
            "  -8.126448   -7.540066   -8.892705   -9.418996   -8.942824   -8.615166\n",
            "  -9.496941   -9.665026   -6.047458   -6.1517916  -3.5666323  -7.074654\n",
            "  -8.149385   -6.5617337  -8.559914   -7.1163793  -8.553459   -7.5595994\n",
            "  -8.405014   -8.682979   -6.7906084  -8.405868   -8.498199   -6.235168\n",
            "  -8.774738   -7.628984   -8.575293   -7.887277   -8.571484   -8.881729\n",
            "  -7.359875   -8.744015   -8.5534725  -6.743694   -7.268455   -8.534403\n",
            "  -8.5651     -6.48624    -8.576065   -6.986378   -8.542225   -7.4793925\n",
            "  -8.85868    -8.480019   -8.771891   -6.91767    -8.668295   -7.195727\n",
            "  -8.835159   -8.785324   -8.765894   -8.421247   -7.56776    -7.990117\n",
            "  -7.5482945  -7.821804   -8.122393   -7.256473   -8.40498    -6.5453873\n",
            "  -8.211745   -8.5522     -7.2628684  -6.084314   -7.759271   -8.038822\n",
            "  -7.1379924  -7.3019333  -7.178515   -7.6427264  -8.35898    -7.0667434\n",
            "  -8.150645   -7.197267   -6.8137436  -8.397957   -7.6221995  -4.742478\n",
            "  -7.663372   -8.427992   -6.018067   -7.388163   -7.9746323  -6.6263785\n",
            "  -7.345707   -7.4896007  -6.12304    -8.325474   -8.1798115  -8.328945\n",
            "  -8.272494   -7.826528   -7.475841   -7.9066358  -6.5980496  -8.417129\n",
            "  -7.8246684  -8.545809   -8.332106   -7.9950128  -8.099606   -8.308593\n",
            "  -7.9492817  -7.469399   -7.982207   -6.061687   -8.512728   -7.686953\n",
            "  -8.542606   -8.310251   -7.8002048  -7.457564   -7.8759837  -6.884455\n",
            "  -8.719748   -7.9968305  -8.694688   -8.498899   -8.230696   -8.31043\n",
            "  -8.593058   -8.058225   -7.5684457  -8.421456   -8.0624895  -6.583306\n",
            "  -8.169733   -7.095347   -7.474628   -7.737891   -6.861242   -7.907421\n",
            "  -8.306466   -6.3024316  -7.3159556  -6.60984    -3.9708915  -3.3506806\n",
            "  -7.3838687  -6.483375   -5.8961205  -7.0472136  -5.9590764  -6.542592\n",
            "  -2.303871   -5.9218683  -3.9551253  -0.3697978  -3.876274   -7.3552966\n",
            "  -6.986509   -5.6333413  -7.4624314  -5.169765   -7.3215194  -2.8041286\n",
            "  -5.9987607  -1.5594568  -4.8584733  -8.184523   -3.5863802  -6.4131274\n",
            "  -2.2215767  -5.00682    -7.9886184  -7.8991446  -6.816694   -6.5969768\n",
            "  -7.538853   -8.162258   -6.02385    -8.953104   -6.7483764  -9.067342\n",
            "  -7.41688    -9.154783   -7.7045164  -9.213534   -8.016995   -9.005892\n",
            "  -7.1149144  -7.6283574  -6.1918     -5.3011994  -8.230417   -6.057663\n",
            "  -8.007124   -4.6067452  -6.96551    -6.9792066  -6.837874   -5.120205\n",
            "  -8.260263   -8.454395   -8.5163765  -7.8732705  -7.055022   -6.0473857\n",
            "   2.8933837   0.09155928 -0.60806084  7.1314416   5.475147   -3.7968059\n",
            "  -3.3996677  -3.788372   -7.696884   -5.8966975  -4.360665   -4.59659\n",
            "  -4.355638   -5.8030148  -5.717846   -3.234939   -4.5819073  -4.068914\n",
            "  -7.6365523  -5.4722815  -5.853342   -7.8989234  -6.781873   -5.6461186\n",
            "  -7.915781   -5.6634884  -4.7542176  -7.6325507  -7.2381167  -5.0382657\n",
            "  -7.297066   -5.822384   -5.712398   -4.2238984  -3.8604584  -6.2709317\n",
            "  -6.591721   -5.85331    -7.1846395  -8.302199   -5.85395    -8.543188\n",
            "  -7.788769   -6.547237   -7.82704    -6.0474963 ]], shape=(1, 250), dtype=float32)\n"
          ],
          "name": "stdout"
        }
      ]
    },
    {
      "cell_type": "code",
      "metadata": {
        "id": "dpzbYXihu39a",
        "colab": {
          "base_uri": "https://localhost:8080/",
          "height": 34
        },
        "outputId": "a3301a24-35f3-4572-8a78-15dbe3f1cbbb"
      },
      "source": [
        "print(tf.math.argmax(startScores[0],0)) # https://www.tensorflow.org/api_docs/python/tf/math/argmax\n",
        "    "
      ],
      "execution_count": null,
      "outputs": [
        {
          "output_type": "stream",
          "text": [
            "tf.Tensor(207, shape=(), dtype=int64)\n"
          ],
          "name": "stdout"
        }
      ]
    },
    {
      "cell_type": "code",
      "metadata": {
        "id": "CBYyFwfzu_Ww",
        "colab": {
          "base_uri": "https://localhost:8080/",
          "height": 34
        },
        "outputId": "3ada2ab4-cbc0-434c-8ed9-947e0f39d0f8"
      },
      "source": [
        "print((tf.math.argmax(startScores[0],0)).numpy())"
      ],
      "execution_count": null,
      "outputs": [
        {
          "output_type": "stream",
          "text": [
            "207\n"
          ],
          "name": "stdout"
        }
      ]
    },
    {
      "cell_type": "code",
      "metadata": {
        "id": "plcAhyNDvFKt",
        "colab": {
          "base_uri": "https://localhost:8080/",
          "height": 34
        },
        "outputId": "ff49730a-ec07-4738-eb30-0f6ef0c54c64"
      },
      "source": [
        "startIdx = tf.math.argmax(startScores[0],0).numpy()\n",
        "endIdx = tf.math.argmax(endScores[0],0).numpy()+1\n",
        "print(startIdx,endIdx)"
      ],
      "execution_count": null,
      "outputs": [
        {
          "output_type": "stream",
          "text": [
            "207 209\n"
          ],
          "name": "stdout"
        }
      ]
    },
    {
      "cell_type": "code",
      "metadata": {
        "id": "ggC1WRKQvRiG",
        "colab": {
          "base_uri": "https://localhost:8080/",
          "height": 34
        },
        "outputId": "94064772-2313-488c-faa1-e04a96eb1c5e"
      },
      "source": [
        "print(\" \".join(input_tokens[startIdx:endIdx]))"
      ],
      "execution_count": null,
      "outputs": [
        {
          "output_type": "stream",
          "text": [
            "over half\n"
          ],
          "name": "stdout"
        }
      ]
    },
    {
      "cell_type": "markdown",
      "metadata": {
        "id": "qnowy0BYf8ij"
      },
      "source": [
        "## Additional Resources\n",
        "- Mobile BERT QA System (code in pure TF/Keras):  https://www.tensorflow.org/lite/models/bert_qa/overview\n",
        "\n",
        "- https://towardsdatascience.com/testing-bert-based-question-answering-on-coronavirus-articles-13623637a4ff\n",
        "\n",
        "- Finetune on custom-data: https://huggingface.co/transformers/examples.html#squad"
      ]
    }
  ]
}